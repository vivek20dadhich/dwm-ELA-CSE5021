{
 "cells": [
  {
   "cell_type": "markdown",
   "metadata": {},
   "source": [
    "## 20MAI0077\n",
    "### CSE5021\tData Warehousing and Mining\tELA\n",
    "### Basic data structures in Python NumPy and PANDAS\n",
    "<br></br>"
   ]
  },
  {
   "cell_type": "markdown",
   "metadata": {},
   "source": [
    "# dtypes in python\n",
    "Data types are the classification or categorization of data items. \n",
    "\n",
    "It represents the kind of value that tells what operations can be performed on a particular data. "
   ]
  },
  {
   "cell_type": "code",
   "execution_count": 1,
   "metadata": {},
   "outputs": [],
   "source": [
    "x = [5, 20.5, 'Freddie', (2, 'This is a tuple'), ['2', '3', '4'], {\"name\" : \"Vivek\", \"age\" : 22}, {\"apple\", \"banana\", \"cherry\"}, True, range(5)]\n",
    "\n",
    "for i in x:\n",
    "    print(type(i))\n",
    " "
   ]
  },
  {
   "cell_type": "markdown",
   "metadata": {},
   "source": [
    "# Data Structures in Python\n",
    "\n",
    "data structures are objects that contain a possibly large number of other objects. Among those that Python provides as built-in structures are:\n",
    "\n",
    "tuple -\n",
    "A collection of arbitrary objects; only a few methods available\n",
    "\n",
    "list -\n",
    "A collection of arbitrary objects; many methods available\n",
    "\n",
    "dict -\n",
    "A key-value store object\n",
    "\n",
    "set -\n",
    "An unordered collection object for other unique objects"
   ]
  },
  {
   "cell_type": "markdown",
   "metadata": {},
   "source": [
    "### List "
   ]
  },
  {
   "cell_type": "code",
   "execution_count": 2,
   "metadata": {},
   "outputs": [
    {
     "name": "stdout",
     "output_type": "stream",
     "text": [
      "[1, 2, 3]\n",
      "[1, 2, 3, [555, 12]]\n",
      "[1, 2, 3, [555, 12], 234, 'more_example']\n",
      "[1, 'insert_example', 2, 3, [555, 12], 234, 'more_example']\n",
      "[1, 'insert_example']\n",
      "['more_example', 234, [555, 12], 3, 2, 'insert_example', 1]\n"
     ]
    }
   ],
   "source": [
    "my_list = [1, 2, 3]\n",
    "print(my_list)\n",
    "my_list.append([555, 12])  #add as a single element\n",
    "print(my_list)\n",
    "my_list.extend([234, 'more_example'])  #add as different elements\n",
    "print(my_list)\n",
    "my_list.insert(1, 'insert_example')  #add element at index\n",
    "print(my_list)\n",
    "\n",
    "print(my_list[0:2])  #accessing elements from 0 to 1 and exclude 2\n",
    "print(my_list[::-1])  #accessing elements in reverse"
   ]
  },
  {
   "cell_type": "code",
   "execution_count": 3,
   "metadata": {},
   "outputs": [
    {
     "name": "stdout",
     "output_type": "stream",
     "text": [
      "[1, 2, 3, 'example', 3.132, 30]\n",
      "[1, 2, 3, 3.132, 30]\n",
      "Popped Element:  2  List remaining:  [1, 3, 3.132, 30]\n",
      "[]\n"
     ]
    }
   ],
   "source": [
    "my_list = [1, 2, 3, 'example', 3.132, 10, 30]\n",
    "del my_list[5]         #delete element at index 5\n",
    "print(my_list)\n",
    "\n",
    "my_list.remove('example')  #remove element with value\n",
    "print(my_list)\n",
    "\n",
    "a = my_list.pop(1)     #pop element from list\n",
    "print('Popped Element: ', a, ' List remaining: ', my_list)\n",
    "\n",
    "my_list.clear()        #empty the list\n",
    "print(my_list)"
   ]
  },
  {
   "cell_type": "code",
   "execution_count": 4,
   "metadata": {},
   "outputs": [
    {
     "name": "stdout",
     "output_type": "stream",
     "text": [
      "['hello', 'this', 'is', 'a', 'sentence', 'to', 'just', 'say', 'hello']\n",
      "hello -  2\n",
      "this -  1\n",
      "is -  1\n",
      "a -  1\n",
      "sentence -  1\n",
      "to -  1\n",
      "just -  1\n",
      "say -  1\n"
     ]
    }
   ],
   "source": [
    "sen=\"hello this is a sentence to just say hello\"\n",
    "list2 = []\n",
    "\n",
    "s=sen.split()\n",
    "\n",
    "list2.extend(s)                    \n",
    "\n",
    "print(list2)\n",
    "\n",
    "list3=[]\n",
    "\n",
    "for i in s:\n",
    "    if i not in list3:\n",
    "        list3.append(i)\n",
    "  \n",
    "for i in range(0,len(list3)):\n",
    "    q=s.count(list3[i])\n",
    "    print(\"{} - \".format(list3[i]),q)"
   ]
  },
  {
   "cell_type": "markdown",
   "metadata": {},
   "source": [
    "### Dictionary\n",
    "A dictionary (or map or associative-array) is a data-structure with keys and values.\n",
    "\n",
    "In Python, Dictionary data structure can be used as the dict datatype"
   ]
  },
  {
   "cell_type": "code",
   "execution_count": 5,
   "metadata": {},
   "outputs": [
    {
     "name": "stdout",
     "output_type": "stream",
     "text": [
      "{'First': 'Apple', 'Second': 'Orange'}\n",
      "{'First': 'Apple', 'Second': 'Grapes'}\n",
      "{'First': 'Apple', 'Second': 'Grapes', 'Third': 'Mango'}\n"
     ]
    }
   ],
   "source": [
    "my_dict = {'First': 'Apple', 'Second': 'Orange'}\n",
    "print(my_dict)\n",
    "my_dict['Second'] = 'Grapes'  #changing element\n",
    "print(my_dict)\n",
    "my_dict['Third'] = 'Mango'  #adding third key-value pair\n",
    "print(my_dict)"
   ]
  },
  {
   "cell_type": "code",
   "execution_count": 6,
   "metadata": {},
   "outputs": [
    {
     "name": "stdout",
     "output_type": "stream",
     "text": [
      "Value: Mango\n",
      "Dictionary: {'First': 'Apple', 'Second': 'Grapes'}\n",
      "Key, value pair: ('Second', 'Grapes')\n",
      "Dictionary {'First': 'Apple'}\n",
      "n {}\n"
     ]
    }
   ],
   "source": [
    "a = my_dict.pop('Third')  #pop element\n",
    "print('Value:', a)\n",
    "print('Dictionary:', my_dict)\n",
    "\n",
    "b = my_dict.popitem()  #pop the key-value pair\n",
    "print('Key, value pair:', b)\n",
    "print('Dictionary', my_dict)\n",
    "\n",
    "my_dict.clear()  #empty dictionary\n",
    "print('n', my_dict)"
   ]
  },
  {
   "cell_type": "markdown",
   "metadata": {},
   "source": [
    "### Tuple"
   ]
  },
  {
   "cell_type": "code",
   "execution_count": 7,
   "metadata": {},
   "outputs": [
    {
     "name": "stdout",
     "output_type": "stream",
     "text": [
      "(1, 2, 3, 'hi', 20)\n",
      "1\n",
      "(1, 2, 3, 'hi', 20)\n",
      "i\n",
      "(1, 2, 3, 'hi', 20, 2, 5, 6)\n",
      "2\n",
      "3\n"
     ]
    }
   ],
   "source": [
    "my_tuple = (1, 2, 3, 'hi', 20)  #creating tuple\n",
    "print(my_tuple)\n",
    "\n",
    "print(my_tuple[0])\n",
    "print(my_tuple[:])\n",
    "print(my_tuple[3][1])\n",
    "\n",
    "my_tuple = my_tuple + (2, 5, 6)  #add elements\n",
    "print(my_tuple)\n",
    "\n",
    "print(my_tuple.count(2))\n",
    "print(my_tuple.index('hi'))"
   ]
  },
  {
   "cell_type": "markdown",
   "metadata": {},
   "source": [
    "### Set"
   ]
  },
  {
   "cell_type": "code",
   "execution_count": 8,
   "metadata": {},
   "outputs": [
    {
     "name": "stdout",
     "output_type": "stream",
     "text": [
      "{1, 2, 3, 4, 5}\n",
      "{1, 2, 3, 4, 5, 6}\n",
      "set()\n"
     ]
    }
   ],
   "source": [
    "my_set = {1, 2, 3, 4, 5, 5, 5}  #creating set\n",
    "print(my_set)\n",
    "\n",
    "my_set.add(6)  #add element to set\n",
    "print(my_set)\n",
    "\n",
    "my_set.clear()\n",
    "print(my_set)"
   ]
  },
  {
   "cell_type": "markdown",
   "metadata": {},
   "source": [
    "# Pandas and Numpy\n",
    "Pandas offers data structures and operations for manipulating numerical tables and time series.\n",
    "\n",
    "NumPy, which stands for Numerical Python, is a library consisting of multidimensional array objects and a collection of routines for processing those arrays. Using NumPy, mathematical and logical operations on arrays can be performed"
   ]
  },
  {
   "cell_type": "markdown",
   "metadata": {},
   "source": [
    "Series is a one-dimensional labeled array capable of holding data of any type (integer, string, float, python objects, etc.). The axis labels are collectively called index"
   ]
  },
  {
   "cell_type": "code",
   "execution_count": 9,
   "metadata": {},
   "outputs": [
    {
     "name": "stdout",
     "output_type": "stream",
     "text": [
      "0    a\n",
      "1    b\n",
      "2    c\n",
      "3    d\n",
      "dtype: object\n"
     ]
    }
   ],
   "source": [
    "import pandas as pd\n",
    "import numpy as np\n",
    "\n",
    "data = np.array(['a','b','c','d'])\n",
    "s = pd.Series(data)  # Create a Series from ndarray\n",
    "print(s)"
   ]
  },
  {
   "cell_type": "code",
   "execution_count": 10,
   "metadata": {},
   "outputs": [
    {
     "name": "stdout",
     "output_type": "stream",
     "text": [
      "a\n"
     ]
    }
   ],
   "source": [
    "print (s[0])  # Accessing Data from Series"
   ]
  },
  {
   "cell_type": "code",
   "execution_count": 11,
   "metadata": {},
   "outputs": [
    {
     "name": "stdout",
     "output_type": "stream",
     "text": [
      "c\n"
     ]
    }
   ],
   "source": [
    "print(s[2])"
   ]
  },
  {
   "cell_type": "markdown",
   "metadata": {},
   "source": [
    "A Data frame is a two-dimensional data structure, i.e., data is aligned in a tabular fashion in rows and columns."
   ]
  },
  {
   "cell_type": "code",
   "execution_count": 12,
   "metadata": {},
   "outputs": [
    {
     "name": "stdout",
     "output_type": "stream",
     "text": [
      "           Name  Age\n",
      "player1   rahul   34\n",
      "player2  laxman   32\n",
      "player3  ashish   26\n"
     ]
    }
   ],
   "source": [
    "# DataFrame from Lists\n",
    "\n",
    "data = [['rahul',34],['laxman',32],['ashish',26]]\n",
    "df = pd.DataFrame(data,columns=['Name','Age'], index=['player1','player2','player3'])\n",
    "print(df)     "
   ]
  },
  {
   "cell_type": "code",
   "execution_count": 13,
   "metadata": {},
   "outputs": [
    {
     "name": "stdout",
     "output_type": "stream",
     "text": [
      "   one  two\n",
      "a  1.0    1\n",
      "b  2.0    2\n",
      "c  3.0    3\n",
      "d  NaN    4\n"
     ]
    }
   ],
   "source": [
    "# DataFrame from Dict of Series\n",
    "\n",
    "d = {'one' : pd.Series([1, 2, 3], index=['a', 'b', 'c']),\n",
    "   'two' : pd.Series([1, 2, 3, 4], index=['a', 'b', 'c', 'd'])}\n",
    "\n",
    "dfs = pd.DataFrame(d)\n",
    "print(dfs)     "
   ]
  },
  {
   "cell_type": "code",
   "execution_count": 14,
   "metadata": {},
   "outputs": [
    {
     "data": {
      "text/plain": [
       "player1    34\n",
       "player2    32\n",
       "player3    26\n",
       "Name: Age, dtype: int64"
      ]
     },
     "execution_count": 14,
     "metadata": {},
     "output_type": "execute_result"
    }
   ],
   "source": [
    "df['Age']"
   ]
  },
  {
   "cell_type": "code",
   "execution_count": 15,
   "metadata": {},
   "outputs": [
    {
     "name": "stdout",
     "output_type": "stream",
     "text": [
      "   one\n",
      "a  1.0\n",
      "b  2.0\n",
      "c  3.0\n",
      "d  NaN\n"
     ]
    }
   ],
   "source": [
    "# column deletion from df\n",
    "\n",
    "dfs.pop('two')\n",
    "print(dfs)"
   ]
  },
  {
   "cell_type": "code",
   "execution_count": 16,
   "metadata": {},
   "outputs": [
    {
     "data": {
      "text/plain": [
       "Name    laxman\n",
       "Age         32\n",
       "Name: player2, dtype: object"
      ]
     },
     "execution_count": 16,
     "metadata": {},
     "output_type": "execute_result"
    }
   ],
   "source": [
    "df.loc['player2']   # Rows can be selected by passing row label to a loc function"
   ]
  },
  {
   "cell_type": "code",
   "execution_count": 17,
   "metadata": {},
   "outputs": [
    {
     "data": {
      "text/plain": [
       "Name    laxman\n",
       "Age         32\n",
       "Name: player2, dtype: object"
      ]
     },
     "execution_count": 17,
     "metadata": {},
     "output_type": "execute_result"
    }
   ],
   "source": [
    "df.iloc[1]     # Rows can be selected by passing integer location to an iloc function"
   ]
  },
  {
   "cell_type": "code",
   "execution_count": 18,
   "metadata": {},
   "outputs": [],
   "source": [
    "df = df.append(dfs)  # Add new rows to a DataFrame using the append function"
   ]
  },
  {
   "cell_type": "code",
   "execution_count": 19,
   "metadata": {},
   "outputs": [
    {
     "data": {
      "text/html": [
       "<div>\n",
       "<style scoped>\n",
       "    .dataframe tbody tr th:only-of-type {\n",
       "        vertical-align: middle;\n",
       "    }\n",
       "\n",
       "    .dataframe tbody tr th {\n",
       "        vertical-align: top;\n",
       "    }\n",
       "\n",
       "    .dataframe thead th {\n",
       "        text-align: right;\n",
       "    }\n",
       "</style>\n",
       "<table border=\"1\" class=\"dataframe\">\n",
       "  <thead>\n",
       "    <tr style=\"text-align: right;\">\n",
       "      <th></th>\n",
       "      <th>Name</th>\n",
       "      <th>Age</th>\n",
       "      <th>one</th>\n",
       "    </tr>\n",
       "  </thead>\n",
       "  <tbody>\n",
       "    <tr>\n",
       "      <th>player1</th>\n",
       "      <td>rahul</td>\n",
       "      <td>34.0</td>\n",
       "      <td>NaN</td>\n",
       "    </tr>\n",
       "    <tr>\n",
       "      <th>player2</th>\n",
       "      <td>laxman</td>\n",
       "      <td>32.0</td>\n",
       "      <td>NaN</td>\n",
       "    </tr>\n",
       "    <tr>\n",
       "      <th>player3</th>\n",
       "      <td>ashish</td>\n",
       "      <td>26.0</td>\n",
       "      <td>NaN</td>\n",
       "    </tr>\n",
       "    <tr>\n",
       "      <th>a</th>\n",
       "      <td>NaN</td>\n",
       "      <td>NaN</td>\n",
       "      <td>1.0</td>\n",
       "    </tr>\n",
       "    <tr>\n",
       "      <th>b</th>\n",
       "      <td>NaN</td>\n",
       "      <td>NaN</td>\n",
       "      <td>2.0</td>\n",
       "    </tr>\n",
       "    <tr>\n",
       "      <th>c</th>\n",
       "      <td>NaN</td>\n",
       "      <td>NaN</td>\n",
       "      <td>3.0</td>\n",
       "    </tr>\n",
       "    <tr>\n",
       "      <th>d</th>\n",
       "      <td>NaN</td>\n",
       "      <td>NaN</td>\n",
       "      <td>NaN</td>\n",
       "    </tr>\n",
       "  </tbody>\n",
       "</table>\n",
       "</div>"
      ],
      "text/plain": [
       "           Name   Age  one\n",
       "player1   rahul  34.0  NaN\n",
       "player2  laxman  32.0  NaN\n",
       "player3  ashish  26.0  NaN\n",
       "a           NaN   NaN  1.0\n",
       "b           NaN   NaN  2.0\n",
       "c           NaN   NaN  3.0\n",
       "d           NaN   NaN  NaN"
      ]
     },
     "execution_count": 19,
     "metadata": {},
     "output_type": "execute_result"
    }
   ],
   "source": [
    "df"
   ]
  },
  {
   "cell_type": "code",
   "execution_count": 20,
   "metadata": {},
   "outputs": [],
   "source": [
    "# deletion of rows\n",
    "\n",
    "df = df.drop('a')"
   ]
  },
  {
   "cell_type": "code",
   "execution_count": 21,
   "metadata": {},
   "outputs": [
    {
     "data": {
      "text/html": [
       "<div>\n",
       "<style scoped>\n",
       "    .dataframe tbody tr th:only-of-type {\n",
       "        vertical-align: middle;\n",
       "    }\n",
       "\n",
       "    .dataframe tbody tr th {\n",
       "        vertical-align: top;\n",
       "    }\n",
       "\n",
       "    .dataframe thead th {\n",
       "        text-align: right;\n",
       "    }\n",
       "</style>\n",
       "<table border=\"1\" class=\"dataframe\">\n",
       "  <thead>\n",
       "    <tr style=\"text-align: right;\">\n",
       "      <th></th>\n",
       "      <th>Name</th>\n",
       "      <th>Age</th>\n",
       "      <th>one</th>\n",
       "    </tr>\n",
       "  </thead>\n",
       "  <tbody>\n",
       "    <tr>\n",
       "      <th>player1</th>\n",
       "      <td>rahul</td>\n",
       "      <td>34.0</td>\n",
       "      <td>NaN</td>\n",
       "    </tr>\n",
       "    <tr>\n",
       "      <th>player2</th>\n",
       "      <td>laxman</td>\n",
       "      <td>32.0</td>\n",
       "      <td>NaN</td>\n",
       "    </tr>\n",
       "    <tr>\n",
       "      <th>player3</th>\n",
       "      <td>ashish</td>\n",
       "      <td>26.0</td>\n",
       "      <td>NaN</td>\n",
       "    </tr>\n",
       "    <tr>\n",
       "      <th>b</th>\n",
       "      <td>NaN</td>\n",
       "      <td>NaN</td>\n",
       "      <td>2.0</td>\n",
       "    </tr>\n",
       "    <tr>\n",
       "      <th>c</th>\n",
       "      <td>NaN</td>\n",
       "      <td>NaN</td>\n",
       "      <td>3.0</td>\n",
       "    </tr>\n",
       "    <tr>\n",
       "      <th>d</th>\n",
       "      <td>NaN</td>\n",
       "      <td>NaN</td>\n",
       "      <td>NaN</td>\n",
       "    </tr>\n",
       "  </tbody>\n",
       "</table>\n",
       "</div>"
      ],
      "text/plain": [
       "           Name   Age  one\n",
       "player1   rahul  34.0  NaN\n",
       "player2  laxman  32.0  NaN\n",
       "player3  ashish  26.0  NaN\n",
       "b           NaN   NaN  2.0\n",
       "c           NaN   NaN  3.0\n",
       "d           NaN   NaN  NaN"
      ]
     },
     "execution_count": 21,
     "metadata": {},
     "output_type": "execute_result"
    }
   ],
   "source": [
    "df"
   ]
  },
  {
   "cell_type": "code",
   "execution_count": 22,
   "metadata": {},
   "outputs": [
    {
     "name": "stdout",
     "output_type": "stream",
     "text": [
      "2\n"
     ]
    }
   ],
   "source": [
    "a = np.array([2,5,9,1])\n",
    "\n",
    "print(a.argmax())#for finding the index of max value in array\n",
    "\n",
    "a=np.arange(100)# to arrange 1d data into 2d data"
   ]
  },
  {
   "cell_type": "code",
   "execution_count": 23,
   "metadata": {},
   "outputs": [
    {
     "data": {
      "text/plain": [
       "array([ 0,  1,  2,  3,  4,  5,  6,  7,  8,  9, 10, 11, 12, 13, 14, 15, 16,\n",
       "       17, 18, 19, 20, 21, 22, 23, 24, 25, 26, 27, 28, 29, 30, 31, 32, 33,\n",
       "       34, 35, 36, 37, 38, 39, 40, 41, 42, 43, 44, 45, 46, 47, 48, 49, 50,\n",
       "       51, 52, 53, 54, 55, 56, 57, 58, 59, 60, 61, 62, 63, 64, 65, 66, 67,\n",
       "       68, 69, 70, 71, 72, 73, 74, 75, 76, 77, 78, 79, 80, 81, 82, 83, 84,\n",
       "       85, 86, 87, 88, 89, 90, 91, 92, 93, 94, 95, 96, 97, 98, 99])"
      ]
     },
     "execution_count": 23,
     "metadata": {},
     "output_type": "execute_result"
    }
   ],
   "source": [
    "a"
   ]
  }
 ],
 "metadata": {
  "kernelspec": {
   "display_name": "Python 3",
   "language": "python",
   "name": "python3"
  },
  "language_info": {
   "codemirror_mode": {
    "name": "ipython",
    "version": 3
   },
   "file_extension": ".py",
   "mimetype": "text/x-python",
   "name": "python",
   "nbconvert_exporter": "python",
   "pygments_lexer": "ipython3",
   "version": "3.8.5"
  }
 },
 "nbformat": 4,
 "nbformat_minor": 4
}
